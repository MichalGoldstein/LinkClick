{
 "cells": [
  {
   "cell_type": "code",
   "execution_count": 1,
   "id": "570d54e8-be25-43fe-a358-0cb5373eaa6a",
   "metadata": {},
   "outputs": [],
   "source": [
    "import cv2\n",
    "from PIL import Image\n",
    "import pytesseract"
   ]
  },
  {
   "cell_type": "code",
   "execution_count": 2,
   "id": "49845ee6-2891-4f58-b72f-f498198c6aa0",
   "metadata": {},
   "outputs": [],
   "source": [
    "# Load the image file\n",
    "image_path = \"example.png\"\n",
    "image = cv2.imread(image_path)"
   ]
  },
  {
   "cell_type": "code",
   "execution_count": 3,
   "id": "6546b8d3-0330-4f6b-8eec-881cee208325",
   "metadata": {},
   "outputs": [],
   "source": [
    "# Convert to grayscale\n",
    "gray = cv2.cvtColor(image, cv2.COLOR_BGR2GRAY)\n",
    "\n",
    "# Apply thresholding\n",
    "_, thresh = cv2.threshold(gray, 0, 255, cv2.THRESH_BINARY + cv2.THRESH_OTSU)"
   ]
  },
  {
   "cell_type": "code",
   "execution_count": 5,
   "id": "e37c8b3d-1b02-448c-8839-965fa6149845",
   "metadata": {},
   "outputs": [],
   "source": [
    "# Perform OCR\n",
    "extracted_text = pytesseract.image_to_string(Image.open(preprocessed_image_path))"
   ]
  },
  {
   "cell_type": "code",
   "execution_count": 6,
   "id": "c4db8d57-0e42-4bec-a73f-5bec5e4a9534",
   "metadata": {},
   "outputs": [
    {
     "name": "stdout",
     "output_type": "stream",
     "text": [
      "Extracted Text:\n",
      "tubefeedscalculator.com QA\n",
      "\n",
      "a & © &@ 8 }\n",
      "\n"
     ]
    }
   ],
   "source": [
    "# Print the extracted text\n",
    "print(\"Extracted Text:\")\n",
    "print(extracted_text)"
   ]
  }
 ],
 "metadata": {
  "kernelspec": {
   "display_name": "Python 3 (ipykernel)",
   "language": "python",
   "name": "python3"
  },
  "language_info": {
   "codemirror_mode": {
    "name": "ipython",
    "version": 3
   },
   "file_extension": ".py",
   "mimetype": "text/x-python",
   "name": "python",
   "nbconvert_exporter": "python",
   "pygments_lexer": "ipython3",
   "version": "3.9.21"
  }
 },
 "nbformat": 4,
 "nbformat_minor": 5
}
